{
 "cells": [
  {
   "cell_type": "code",
   "execution_count": 688,
   "metadata": {},
   "outputs": [],
   "source": [
    "from __future__ import division\n",
    "from sympy import * \n",
    "from IPython.display import display\n",
    "from IPython.display import Math"
   ]
  },
  {
   "cell_type": "markdown",
   "metadata": {},
   "source": [
    "# Chapter 3 : VECTOR SPACES & SUBSPACES"
   ]
  },
  {
   "cell_type": "markdown",
   "metadata": {},
   "source": [
    "## Section 3.1"
   ]
  },
  {
   "cell_type": "markdown",
   "metadata": {},
   "source": [
    "### Problem 1\n",
    "Define  [v_1, v_2] + [w_1, w_2]  =  [v_2 + w_1, v_1 + w_2]\n",
    "With the usual multiplication, which of the eight vectorspace conditions are not satisfied?"
   ]
  },
  {
   "cell_type": "code",
   "execution_count": 85,
   "metadata": {
    "jupyter": {
     "source_hidden": true
    }
   },
   "outputs": [
    {
     "name": "stdout",
     "output_type": "stream",
     "text": [
      "Define  [v_1, v_2] + [w_1, w_2]  =  [v_2 + w_1, v_1 + w_2]\n",
      "With the usual multiplication, which of the eight vectorspace conditions are not satisfied?\n",
      "v+w =  [v_2 + w_1, v_1 + w_2]\n",
      "w+v =  [v_1 + w_2, v_2 + w_1]\n",
      "v+w =/= w+v\n"
     ]
    }
   ],
   "source": [
    "v_1, v_2, w_1, w_2 , c = symbols('v_1, v_2, w_1, w_2, c')\n",
    "\n",
    "v = [v_1, v_2]\n",
    "w = [w_1, w_2]\n",
    "\n",
    "\n",
    "def addvec(x,y):\n",
    "    vec = [x[1]+y[0],x[0]+y[1]]\n",
    "    return vec\n",
    "def scalar_mult(c, v):\n",
    "    return [c*v[0],c*v[1]]\n",
    "\n",
    "print(\"Define \", v, '+', w , ' = ', addvec(v,w))\n",
    "print(\"With the usual multiplication, which of the eight vectorspace conditions are not satisfied?\")\n",
    "\n",
    "print(\"v+w = \", addvec(v,w))\n",
    "print(\"w+v = \", addvec(w,v))\n",
    "print(\"v+w =/= w+v\")"
   ]
  },
  {
   "cell_type": "markdown",
   "metadata": {},
   "source": [
    "### Problem 17\n",
    "Let M be the set of all 2x2 matrices\n",
    "Show that the set of INVERTIBLE matrices in M is not a subspace.\n",
    "Show that the set of SINGULAR matrices in M is not a subspace."
   ]
  },
  {
   "cell_type": "code",
   "execution_count": 57,
   "metadata": {},
   "outputs": [
    {
     "name": "stdout",
     "output_type": "stream",
     "text": [
      "A = \n"
     ]
    },
    {
     "data": {
      "text/latex": [
       "$\\displaystyle \\left[\\begin{matrix}0 & 0 & 0\\\\0 & 0 & 0\\\\0 & 0 & 0\\end{matrix}\\right]$"
      ],
      "text/plain": [
       "Matrix([\n",
       "[0, 0, 0],\n",
       "[0, 0, 0],\n",
       "[0, 0, 0]])"
      ]
     },
     "metadata": {},
     "output_type": "display_data"
    },
    {
     "name": "stdout",
     "output_type": "stream",
     "text": [
      "A**-1 = \n",
      "Error, matrix is not invertible. \n",
      "\n",
      "The zero vector is not in the space.\n"
     ]
    }
   ],
   "source": [
    "A = Matrix(zeros(3,3))\n",
    "print(\"A = \")\n",
    "display(A)\n",
    "print(\"A**-1 = \")\n",
    "try:\n",
    "    A**-1\n",
    "except:\n",
    "    print(\"Error, matrix is not invertible. \\n\\nThe zero vector is not in the space.\")"
   ]
  },
  {
   "cell_type": "code",
   "execution_count": 75,
   "metadata": {},
   "outputs": [
    {
     "name": "stdout",
     "output_type": "stream",
     "text": [
      "A counterexample will suffice: \n",
      "Let A = \n"
     ]
    },
    {
     "data": {
      "text/latex": [
       "$\\displaystyle \\left[\\begin{matrix}1 & 0\\\\0 & 0\\end{matrix}\\right]$"
      ],
      "text/plain": [
       "Matrix([\n",
       "[1, 0],\n",
       "[0, 0]])"
      ]
     },
     "metadata": {},
     "output_type": "display_data"
    },
    {
     "name": "stdout",
     "output_type": "stream",
     "text": [
      "A**-1 = \n",
      "Error, matrix is not invertible.\n",
      "A is singular.\n",
      "\n",
      "Let B = \n"
     ]
    },
    {
     "data": {
      "text/latex": [
       "$\\displaystyle \\left[\\begin{matrix}0 & 0\\\\0 & 1\\end{matrix}\\right]$"
      ],
      "text/plain": [
       "Matrix([\n",
       "[0, 0],\n",
       "[0, 1]])"
      ]
     },
     "metadata": {},
     "output_type": "display_data"
    },
    {
     "name": "stdout",
     "output_type": "stream",
     "text": [
      "B**-1 = \n",
      "Error, matrix is not invertible.\n",
      "B is singular.\n",
      "\n",
      "A+B = \n"
     ]
    },
    {
     "data": {
      "text/latex": [
       "$\\displaystyle \\left[\\begin{matrix}1 & 0\\\\0 & 1\\end{matrix}\\right]$"
      ],
      "text/plain": [
       "Matrix([\n",
       "[1, 0],\n",
       "[0, 1]])"
      ]
     },
     "metadata": {},
     "output_type": "display_data"
    },
    {
     "data": {
      "text/latex": [
       "$\\displaystyle \\left[\\begin{matrix}1 & 0\\\\0 & 1\\end{matrix}\\right]$"
      ],
      "text/plain": [
       "Matrix([\n",
       "[1, 0],\n",
       "[0, 1]])"
      ]
     },
     "metadata": {},
     "output_type": "display_data"
    },
    {
     "name": "stdout",
     "output_type": "stream",
     "text": [
      "(A+B)**-1 = \n"
     ]
    },
    {
     "data": {
      "text/latex": [
       "$\\displaystyle \\left[\\begin{matrix}1 & 0\\\\0 & 1\\end{matrix}\\right]$"
      ],
      "text/plain": [
       "Matrix([\n",
       "[1, 0],\n",
       "[0, 1]])"
      ]
     },
     "metadata": {},
     "output_type": "display_data"
    },
    {
     "name": "stdout",
     "output_type": "stream",
     "text": [
      "The matrix is invertible, and therefore not in the space of singular matrices.\n"
     ]
    }
   ],
   "source": [
    "print(\"A counterexample will suffice: \")\n",
    "A = Matrix([[1,0],[0,0]])\n",
    "B = Matrix([[0,0],[0,1]])\n",
    "\n",
    "print(\"Let A = \")\n",
    "display(A)\n",
    "print(\"A**-1 = \")\n",
    "try:\n",
    "    A**-1\n",
    "except:\n",
    "    print(\"Error, matrix is not invertible.\")\n",
    "print(\"A is singular.\\n\")\n",
    "\n",
    "print(\"Let B = \")\n",
    "display(B)\n",
    "print(\"B**-1 = \")\n",
    "try:\n",
    "   B**-1\n",
    "except:\n",
    "    print(\"Error, matrix is not invertible.\")\n",
    "print(\"B is singular.\\n\")\n",
    "\n",
    "print(\"A+B = \")\n",
    "display(A+B)\n",
    "\n",
    "a = MatrixSymbol('A',2,2)\n",
    "b = MatrixSymbol('B',2,2)\n",
    "\n",
    "display(((A+B)**-1))\n",
    "print(\"(A+B)**-1 = \")\n",
    "try:\n",
    "    display((A+B)**-1)\n",
    "    print(\"The matrix is invertible, and therefore not in the space of singular matrices.\")\n",
    "except:\n",
    "    print(\"Error, matrix is not invertible.\")\n"
   ]
  },
  {
   "cell_type": "markdown",
   "metadata": {},
   "source": [
    "### Problem 19\n",
    "Describe the column spaces of these particular matrices:"
   ]
  },
  {
   "cell_type": "code",
   "execution_count": 125,
   "metadata": {
    "jupyter": {
     "source_hidden": true
    }
   },
   "outputs": [
    {
     "name": "stdout",
     "output_type": "stream",
     "text": [
      "A ="
     ]
    },
    {
     "data": {
      "text/latex": [
       "$\\displaystyle \\left[\\begin{matrix}1 & 2\\\\0 & 0\\\\0 & 0\\end{matrix}\\right]$"
      ],
      "text/plain": [
       "Matrix([\n",
       "[1, 2],\n",
       "[0, 0],\n",
       "[0, 0]])"
      ]
     },
     "metadata": {},
     "output_type": "display_data"
    },
    {
     "name": "stdout",
     "output_type": "stream",
     "text": [
      "C(A):\n"
     ]
    },
    {
     "data": {
      "text/plain": [
       "[Matrix([\n",
       " [1],\n",
       " [0],\n",
       " [0]])]"
      ]
     },
     "metadata": {},
     "output_type": "display_data"
    },
    {
     "name": "stdout",
     "output_type": "stream",
     "text": [
      "Line\n",
      "B =\n"
     ]
    },
    {
     "data": {
      "text/latex": [
       "$\\displaystyle \\left[\\begin{matrix}1 & 0\\\\0 & 2\\\\0 & 0\\end{matrix}\\right]$"
      ],
      "text/plain": [
       "Matrix([\n",
       "[1, 0],\n",
       "[0, 2],\n",
       "[0, 0]])"
      ]
     },
     "metadata": {},
     "output_type": "display_data"
    },
    {
     "name": "stdout",
     "output_type": "stream",
     "text": [
      "C(B):\n"
     ]
    },
    {
     "data": {
      "text/plain": [
       "[Matrix([\n",
       " [1],\n",
       " [0],\n",
       " [0]]), Matrix([\n",
       " [0],\n",
       " [2],\n",
       " [0]])]"
      ]
     },
     "metadata": {},
     "output_type": "display_data"
    },
    {
     "name": "stdout",
     "output_type": "stream",
     "text": [
      "Plane\n",
      "C =\n"
     ]
    },
    {
     "data": {
      "text/latex": [
       "$\\displaystyle \\left[\\begin{matrix}1 & 0\\\\2 & 0\\\\0 & 0\\end{matrix}\\right]$"
      ],
      "text/plain": [
       "Matrix([\n",
       "[1, 0],\n",
       "[2, 0],\n",
       "[0, 0]])"
      ]
     },
     "metadata": {},
     "output_type": "display_data"
    },
    {
     "name": "stdout",
     "output_type": "stream",
     "text": [
      "C(C):\n"
     ]
    },
    {
     "data": {
      "text/plain": [
       "[Matrix([\n",
       " [1],\n",
       " [2],\n",
       " [0]])]"
      ]
     },
     "metadata": {},
     "output_type": "display_data"
    },
    {
     "name": "stdout",
     "output_type": "stream",
     "text": [
      "Line\n"
     ]
    }
   ],
   "source": [
    "A = Matrix([[1,2],[0,0],[0,0]])\n",
    "B = Matrix([[1,0],[0,2],[0,0]])\n",
    "C = Matrix([[1,0],[2,0],[0,0]])\n",
    "print('A =', end='')\n",
    "display(A)\n",
    "print(\"C(A):\")\n",
    "display((A).columnspace(simplify=true))\n",
    "print(\"Line\")\n",
    "\n",
    "print('B =')\n",
    "display(B)\n",
    "print(\"C(B):\")\n",
    "display((B).columnspace(simplify=true))\n",
    "print(\"Plane\")\n",
    "\n",
    "print('C =')\n",
    "display(C)\n",
    "print(\"C(C):\")\n",
    "display((C).columnspace(simplify=true))\n",
    "print(\"Line\")\n",
    "#C.columnspace"
   ]
  },
  {
   "cell_type": "markdown",
   "metadata": {},
   "source": [
    "### Problem 20:"
   ]
  },
  {
   "cell_type": "code",
   "execution_count": 211,
   "metadata": {
    "jupyter": {
     "source_hidden": true
    }
   },
   "outputs": [
    {
     "name": "stdout",
     "output_type": "stream",
     "text": [
      "For which right sides are these systmes solvable: i.e. find conditions on "
     ]
    },
    {
     "data": {
      "text/latex": [
       "$\\displaystyle b_{1},b_{2},b_{3}$"
      ],
      "text/plain": [
       "<IPython.core.display.Math object>"
      ]
     },
     "metadata": {},
     "output_type": "display_data"
    },
    {
     "name": "stdout",
     "output_type": "stream",
     "text": [
      "\n",
      "\n",
      "\n",
      "Part (a)\n"
     ]
    },
    {
     "data": {
      "text/latex": [
       "$\\displaystyle A =\\left[\\begin{matrix}1 & 4 & 2\\\\2 & 8 & 4\\\\-1 & -4 & -2\\end{matrix}\\right]$"
      ],
      "text/plain": [
       "<IPython.core.display.Math object>"
      ]
     },
     "metadata": {},
     "output_type": "display_data"
    },
    {
     "data": {
      "text/latex": [
       "$\\displaystyle Col(A) = \\left[ \\left[\\begin{matrix}1\\\\2\\\\-1\\end{matrix}\\right]\\right]$"
      ],
      "text/plain": [
       "<IPython.core.display.Math object>"
      ]
     },
     "metadata": {},
     "output_type": "display_data"
    },
    {
     "name": "stdout",
     "output_type": "stream",
     "text": [
      "Necessary conditions: \n"
     ]
    },
    {
     "data": {
      "text/latex": [
       "$\\displaystyle b_{1} = - b_{3}$"
      ],
      "text/plain": [
       "<IPython.core.display.Math object>"
      ]
     },
     "metadata": {},
     "output_type": "display_data"
    },
    {
     "data": {
      "text/latex": [
       "$\\displaystyle b_{2} = 2 b_{1}$"
      ],
      "text/plain": [
       "<IPython.core.display.Math object>"
      ]
     },
     "metadata": {},
     "output_type": "display_data"
    },
    {
     "data": {
      "text/latex": [
       "$\\displaystyle B =\\left[\\begin{matrix}1 & 4\\\\2 & 9\\\\-1 & -4\\end{matrix}\\right]$"
      ],
      "text/plain": [
       "<IPython.core.display.Math object>"
      ]
     },
     "metadata": {},
     "output_type": "display_data"
    },
    {
     "data": {
      "text/latex": [
       "$\\displaystyle Col(B) = \\left[ \\left[\\begin{matrix}1\\\\2\\\\-1\\end{matrix}\\right], \\  \\left[\\begin{matrix}4\\\\9\\\\-4\\end{matrix}\\right]\\right]$"
      ],
      "text/plain": [
       "<IPython.core.display.Math object>"
      ]
     },
     "metadata": {},
     "output_type": "display_data"
    },
    {
     "name": "stdout",
     "output_type": "stream",
     "text": [
      "Necessary conditions: \n"
     ]
    },
    {
     "data": {
      "text/latex": [
       "$\\displaystyle b_{1} = - b_{3}$"
      ],
      "text/plain": [
       "<IPython.core.display.Math object>"
      ]
     },
     "metadata": {},
     "output_type": "display_data"
    }
   ],
   "source": [
    "b_1, b_2, b_3 = symbols('b_1, b_2, b_3')\n",
    "print(\"For which right sides are these systmes solvable: \", end='')\n",
    "print(\"i.e. find conditions on \" ,end='')\n",
    "display(Math(latex(b_1)+','+latex(b_2)+','+latex(b_3)))\n",
    "print(\"\\n\\n\")\n",
    "#(a)\n",
    "print(\"Part (a)\")\n",
    "A = Matrix([[1,4,2],[2,8,4],[-1,-4,-2]])\n",
    "display(Math(latex(\"A =\") + latex(A)))\n",
    "\n",
    "display(Math(latex(\"Col(A) = \") + latex(A.columnspace(simplify=\"yes\"))))\n",
    "print(\"Necessary conditions: \")\n",
    "display(Math(latex(Eq(b_1,-1*b_3))))\n",
    "display(Math(latex(Eq(b_2,2*b_1))))\n",
    "\n",
    "B = Matrix([[1,4],[2,9],[-1,-4]])\n",
    "display(Math(latex(\"B =\") + latex(B)))\n",
    "\n",
    "display(Math(latex(\"Col(B) = \") + latex(B.columnspace(simplify=\"yes\"))))\n",
    "print(\"Necessary conditions: \")\n",
    "#display(Matrix([B,Matrix([[b_1],[b_2],[b_3]])]))\n",
    "display(Math(latex(Eq(b_1,-1*b_3))))\n"
   ]
  },
  {
   "cell_type": "markdown",
   "metadata": {},
   "source": [
    "### Problem 32\n",
    "Find a square matrix with C(A<sup>2</sup>) smaller than C(A)."
   ]
  },
  {
   "cell_type": "code",
   "execution_count": 222,
   "metadata": {},
   "outputs": [
    {
     "data": {
      "text/latex": [
       "$\\displaystyle A =\\left[\\begin{matrix}0 & 1\\\\0 & 0\\end{matrix}\\right]$"
      ],
      "text/plain": [
       "<IPython.core.display.Math object>"
      ]
     },
     "metadata": {},
     "output_type": "display_data"
    },
    {
     "data": {
      "text/latex": [
       "$\\displaystyle A^2 =\\left[\\begin{matrix}0 & 0\\\\0 & 0\\end{matrix}\\right]$"
      ],
      "text/plain": [
       "<IPython.core.display.Math object>"
      ]
     },
     "metadata": {},
     "output_type": "display_data"
    },
    {
     "data": {
      "text/latex": [
       "$\\displaystyle C(A) =\\left[ \\left[\\begin{matrix}1\\\\0\\end{matrix}\\right]\\right]$"
      ],
      "text/plain": [
       "<IPython.core.display.Math object>"
      ]
     },
     "metadata": {},
     "output_type": "display_data"
    },
    {
     "data": {
      "text/latex": [
       "$\\displaystyle C(A^2) =\\left[ \\right]$"
      ],
      "text/plain": [
       "<IPython.core.display.Math object>"
      ]
     },
     "metadata": {},
     "output_type": "display_data"
    }
   ],
   "source": [
    "A = Matrix([[0,1],[0,0]])\n",
    "display(Math(latex(\"A =\") + latex(A)))\n",
    "display(Math(latex(\"A^2 =\") + latex(A*A)))\n",
    "\n",
    "display(Math(latex(\"C(A) =\") + latex(A.columnspace())))\n",
    "display(Math(latex(\"C(A^2) =\") + latex((A*A).columnspace())))\n"
   ]
  },
  {
   "cell_type": "markdown",
   "metadata": {},
   "source": [
    "## Section 3.2 The Nullspace"
   ]
  },
  {
   "cell_type": "markdown",
   "metadata": {},
   "source": [
    "### Problem 3.2.1\n",
    "Reduce these matrices to their ordinary echelon forms:"
   ]
  },
  {
   "cell_type": "code",
   "execution_count": 241,
   "metadata": {},
   "outputs": [
    {
     "data": {
      "text/latex": [
       "$\\displaystyle A =\\left[\\begin{matrix}1 & 2 & 2 & 4 & 6\\\\1 & 2 & 3 & 6 & 9\\\\0 & 0 & 1 & 2 & 3\\end{matrix}\\right]$"
      ],
      "text/plain": [
       "<IPython.core.display.Math object>"
      ]
     },
     "metadata": {},
     "output_type": "display_data"
    },
    {
     "data": {
      "text/latex": [
       "$\\displaystyle A_{echelon} =\\left[\\begin{matrix}1 & 2 & 2 & 4 & 6\\\\0 & 0 & 1 & 2 & 3\\\\0 & 0 & 0 & 0 & 0\\end{matrix}\\right]$"
      ],
      "text/plain": [
       "<IPython.core.display.Math object>"
      ]
     },
     "metadata": {},
     "output_type": "display_data"
    },
    {
     "data": {
      "text/plain": [
       "'Free variables: '"
      ]
     },
     "metadata": {},
     "output_type": "display_data"
    },
    {
     "data": {
      "text/latex": [
       "$\\displaystyle x_2,x_4,x_5$"
      ],
      "text/plain": [
       "<IPython.core.display.Math object>"
      ]
     },
     "metadata": {},
     "output_type": "display_data"
    },
    {
     "data": {
      "text/plain": [
       "'Pivot variables: '"
      ]
     },
     "metadata": {},
     "output_type": "display_data"
    },
    {
     "data": {
      "text/latex": [
       "$\\displaystyle x_1,x_3$"
      ],
      "text/plain": [
       "<IPython.core.display.Math object>"
      ]
     },
     "metadata": {},
     "output_type": "display_data"
    },
    {
     "name": "stdout",
     "output_type": "stream",
     "text": [
      "\n",
      "\n",
      "\n"
     ]
    },
    {
     "data": {
      "text/latex": [
       "$\\displaystyle B =\\left[\\begin{matrix}2 & 4 & 2\\\\0 & 4 & 4\\\\0 & 8 & 8\\end{matrix}\\right]$"
      ],
      "text/plain": [
       "<IPython.core.display.Math object>"
      ]
     },
     "metadata": {},
     "output_type": "display_data"
    },
    {
     "data": {
      "text/latex": [
       "$\\displaystyle B_{echelon} =\\left[\\begin{matrix}2 & 4 & 2\\\\0 & 4 & 4\\\\0 & 0 & 0\\end{matrix}\\right]$"
      ],
      "text/plain": [
       "<IPython.core.display.Math object>"
      ]
     },
     "metadata": {},
     "output_type": "display_data"
    },
    {
     "data": {
      "text/plain": [
       "'Free variables: '"
      ]
     },
     "metadata": {},
     "output_type": "display_data"
    },
    {
     "data": {
      "text/latex": [
       "$\\displaystyle x_3$"
      ],
      "text/plain": [
       "<IPython.core.display.Math object>"
      ]
     },
     "metadata": {},
     "output_type": "display_data"
    },
    {
     "data": {
      "text/plain": [
       "'Pivot variables: '"
      ]
     },
     "metadata": {},
     "output_type": "display_data"
    },
    {
     "data": {
      "text/latex": [
       "$\\displaystyle x_1,x_2$"
      ],
      "text/plain": [
       "<IPython.core.display.Math object>"
      ]
     },
     "metadata": {},
     "output_type": "display_data"
    }
   ],
   "source": [
    "A = Matrix(3,5,(1,2,2,4,6,1,2,3,6,9,0,0,1,2,3))\n",
    "display(Math(latex(\"A =\") + latex(A)))\n",
    "display(Math(latex(\"A_{echelon} =\") + latex(A.echelon_form())))\n",
    "display(\"Free variables: \" , Math(latex(\"x_2,x_4,x_5\")))\n",
    "display(\"Pivot variables: \", Math(latex(\"x_1,x_3\")))\n",
    "print(\"\\n\\n\")\n",
    "\n",
    "B = Matrix(3,3,(2,4,2,0,4,4,0,8,8))\n",
    "display(Math(latex(\"B =\") + latex(B)))\n",
    "display(Math(latex(\"B_{echelon} =\") + latex(B.echelon_form())))\n",
    "display(\"Free variables: \" , Math(latex(\"x_3\")))\n",
    "display(\"Pivot variables: \", Math(latex(\"x_1,x_2\")))"
   ]
  },
  {
   "cell_type": "markdown",
   "metadata": {},
   "source": [
    "### Problem 3.2.2 \n",
    "For the matrices in Problem 1, find a special solution for each free variable. (Set the free variable to 1. Set the other free variables to zero.)"
   ]
  },
  {
   "cell_type": "code",
   "execution_count": 306,
   "metadata": {},
   "outputs": [
    {
     "name": "stdout",
     "output_type": "stream",
     "text": [
      "Special solutions Ax=0:\n"
     ]
    },
    {
     "data": {
      "text/latex": [
       "$\\displaystyle s_1 =\\left[\\begin{matrix}-2\\\\1\\\\0\\\\0\\\\0\\end{matrix}\\right]$"
      ],
      "text/plain": [
       "<IPython.core.display.Math object>"
      ]
     },
     "metadata": {},
     "output_type": "display_data"
    },
    {
     "data": {
      "text/latex": [
       "$\\displaystyle A s_1=\\left[\\begin{matrix}1 & 2 & 2 & 4 & 6\\\\1 & 2 & 3 & 6 & 9\\\\0 & 0 & 1 & 2 & 3\\end{matrix}\\right]\\left[\\begin{matrix}-2\\\\1\\\\0\\\\0\\\\0\\end{matrix}\\right]=\\left[\\begin{matrix}0\\\\0\\\\0\\end{matrix}\\right]$"
      ],
      "text/plain": [
       "<IPython.core.display.Math object>"
      ]
     },
     "metadata": {},
     "output_type": "display_data"
    },
    {
     "data": {
      "text/latex": [
       "$\\displaystyle s_2 =\\left[\\begin{matrix}0\\\\0\\\\-2\\\\1\\\\0\\end{matrix}\\right]$"
      ],
      "text/plain": [
       "<IPython.core.display.Math object>"
      ]
     },
     "metadata": {},
     "output_type": "display_data"
    },
    {
     "data": {
      "text/latex": [
       "$\\displaystyle A s_2=\\left[\\begin{matrix}1 & 2 & 2 & 4 & 6\\\\1 & 2 & 3 & 6 & 9\\\\0 & 0 & 1 & 2 & 3\\end{matrix}\\right]\\left[\\begin{matrix}0\\\\0\\\\-2\\\\1\\\\0\\end{matrix}\\right]=\\left[\\begin{matrix}0\\\\0\\\\0\\end{matrix}\\right]$"
      ],
      "text/plain": [
       "<IPython.core.display.Math object>"
      ]
     },
     "metadata": {},
     "output_type": "display_data"
    },
    {
     "data": {
      "text/latex": [
       "$\\displaystyle s_3 =\\left[\\begin{matrix}0\\\\0\\\\-3\\\\0\\\\1\\end{matrix}\\right]$"
      ],
      "text/plain": [
       "<IPython.core.display.Math object>"
      ]
     },
     "metadata": {},
     "output_type": "display_data"
    },
    {
     "data": {
      "text/latex": [
       "$\\displaystyle A s_3=\\left[\\begin{matrix}1 & 2 & 2 & 4 & 6\\\\1 & 2 & 3 & 6 & 9\\\\0 & 0 & 1 & 2 & 3\\end{matrix}\\right]\\left[\\begin{matrix}0\\\\0\\\\-3\\\\0\\\\1\\end{matrix}\\right]=\\left[\\begin{matrix}0\\\\0\\\\0\\end{matrix}\\right]$"
      ],
      "text/plain": [
       "<IPython.core.display.Math object>"
      ]
     },
     "metadata": {},
     "output_type": "display_data"
    },
    {
     "name": "stdout",
     "output_type": "stream",
     "text": [
      "Every solution Bx=0: \n"
     ]
    },
    {
     "data": {
      "text/latex": [
       "$\\displaystyle x = x_2\\left[\\begin{matrix}-2\\\\1\\\\0\\\\0\\\\0\\end{matrix}\\right]+ x_4\\left[\\begin{matrix}0\\\\0\\\\-2\\\\1\\\\0\\end{matrix}\\right]+ x_5\\left[\\begin{matrix}0\\\\0\\\\-3\\\\0\\\\1\\end{matrix}\\right]$"
      ],
      "text/plain": [
       "<IPython.core.display.Math object>"
      ]
     },
     "metadata": {},
     "output_type": "display_data"
    },
    {
     "name": "stdout",
     "output_type": "stream",
     "text": [
      "\n",
      "Special solutions Bx=0: \n"
     ]
    },
    {
     "data": {
      "text/latex": [
       "$\\displaystyle t_1 =\\left[\\begin{matrix}1\\\\-1\\\\1\\end{matrix}\\right]$"
      ],
      "text/plain": [
       "<IPython.core.display.Math object>"
      ]
     },
     "metadata": {},
     "output_type": "display_data"
    },
    {
     "data": {
      "text/latex": [
       "$\\displaystyle B t_1 =\\left[\\begin{matrix}2 & 4 & 2\\\\0 & 4 & 4\\\\0 & 8 & 8\\end{matrix}\\right]\\left[\\begin{matrix}1\\\\-1\\\\1\\end{matrix}\\right]=\\left[\\begin{matrix}0\\\\0\\\\0\\end{matrix}\\right]$"
      ],
      "text/plain": [
       "<IPython.core.display.Math object>"
      ]
     },
     "metadata": {},
     "output_type": "display_data"
    },
    {
     "name": "stdout",
     "output_type": "stream",
     "text": [
      "Every solution Bx=0:\n"
     ]
    },
    {
     "data": {
      "text/latex": [
       "$\\displaystyle x=x_3\\left[\\begin{matrix}1\\\\-1\\\\1\\end{matrix}\\right]$"
      ],
      "text/plain": [
       "<IPython.core.display.Math object>"
      ]
     },
     "metadata": {},
     "output_type": "display_data"
    },
    {
     "name": "stdout",
     "output_type": "stream",
     "text": [
      "The nullspace contains only x=0 when there are no: \"free variables\".\n"
     ]
    }
   ],
   "source": [
    "print(\"Special solutions Ax=0:\")\n",
    "s_1 = Matrix(5,1, (-2,1,0,0,0))\n",
    "display(Math(latex(\"s_1 =\") + latex(s_1))) \n",
    "display(Math(latex(\"A s_1=\") + latex(A) + latex(s_1) + \"=\" + latex(A*s_1)))\n",
    "\n",
    "s_2 = Matrix(5,1, (0,0,-2,1,0))\n",
    "display(Math(latex(\"s_2 =\") + latex(s_2))) \n",
    "display(Math(latex(\"A s_2=\") + latex(A) + latex(s_2) + \"=\" + latex(A*s_2)))\n",
    "\n",
    "s_3 = Matrix(5,1, (0,0,-3,0,1))\n",
    "display(Math(latex(\"s_3 =\") + latex(s_3))) \n",
    "display(Math(latex(\"A s_3=\") + latex(A) + latex(s_3) + \"=\" + latex(A*s_3)))\n",
    "\n",
    "print(\"Every solution Bx=0: \")\n",
    "display(Math(\"x = x_2\" + latex(s_1) + \"+ x_4\" + latex(s_2) + \"+ x_5\" + latex(s_3)))\n",
    "\n",
    "print(\"\\nSpecial solutions Bx=0: \")\n",
    "t_1 = Matrix(3,1, (1,-1,1))\n",
    "display(Math(latex(\"t_1 =\") + latex(t_1))) \n",
    "display(Math(latex(\"B t_1 =\") + latex(B) + latex(t_1) + \"=\" + latex(B*t_1)))\n",
    "\n",
    "print(\"Every solution Bx=0:\")\n",
    "display(Math(\"x=x_3\" + latex(t_1)))\n",
    "\n",
    "print(\"The nullspace contains only x=0 when there are no: \\\"free variables\\\".\" )"
   ]
  },
  {
   "cell_type": "markdown",
   "metadata": {},
   "source": [
    "### Problem 3.2.5\n",
    "Reduce B to echelon form, Write down a lower triangular matrix L such that B = LU"
   ]
  },
  {
   "cell_type": "code",
   "execution_count": 327,
   "metadata": {},
   "outputs": [
    {
     "data": {
      "text/latex": [
       "$\\displaystyle \\left[\\begin{matrix}2 & 4 & 2\\\\0 & 4 & 4\\\\0 & 8 & 8\\end{matrix}\\right]$"
      ],
      "text/plain": [
       "⎡2  4  2⎤\n",
       "⎢       ⎥\n",
       "⎢0  4  4⎥\n",
       "⎢       ⎥\n",
       "⎣0  8  8⎦"
      ]
     },
     "metadata": {},
     "output_type": "display_data"
    },
    {
     "data": {
      "text/latex": [
       "$\\displaystyle \\left( \\left[\\begin{matrix}1 & 0 & 0\\\\0 & 1 & 0\\\\0 & 2 & 1\\end{matrix}\\right], \\  \\left[\\begin{matrix}2 & 4 & 2\\\\0 & 4 & 4\\\\0 & 0 & 0\\end{matrix}\\right], \\  \\left[ \\right]\\right)$"
      ],
      "text/plain": [
       "⎛⎡1  0  0⎤  ⎡2  4  2⎤    ⎞\n",
       "⎜⎢       ⎥  ⎢       ⎥    ⎟\n",
       "⎜⎢0  1  0⎥, ⎢0  4  4⎥, []⎟\n",
       "⎜⎢       ⎥  ⎢       ⎥    ⎟\n",
       "⎝⎣0  2  1⎦  ⎣0  0  0⎦    ⎠"
      ]
     },
     "metadata": {},
     "output_type": "display_data"
    },
    {
     "data": {
      "text/latex": [
       "$\\displaystyle LU=\\left[\\begin{matrix}1 & 0 & 0\\\\0 & 1 & 0\\\\0 & 2 & 1\\end{matrix}\\right]\\left[\\begin{matrix}2 & 4 & 2\\\\0 & 4 & 4\\\\0 & 0 & 0\\end{matrix}\\right]=\\left[\\begin{matrix}2 & 4 & 2\\\\0 & 4 & 4\\\\0 & 8 & 8\\end{matrix}\\right]=B$"
      ],
      "text/plain": [
       "<IPython.core.display.Math object>"
      ]
     },
     "metadata": {},
     "output_type": "display_data"
    }
   ],
   "source": [
    "\n",
    "display(B)\n",
    "display(B.LUdecomposition())\n",
    "L, U , placeholder = B.LUdecomposition()\n",
    "display(Math(\"LU=\"+ latex(L) + latex(U) + \"=\" + latex(L*U) + \"=B\"))"
   ]
  },
  {
   "cell_type": "markdown",
   "metadata": {},
   "source": [
    "### Problem 3.2.10\n",
    "Construct 3x3 matrices to satisfy these requirements (if possible):\n",
    "\n",
    "(a) A has no zero entries but U = I \n"
   ]
  },
  {
   "cell_type": "code",
   "execution_count": 352,
   "metadata": {},
   "outputs": [
    {
     "data": {
      "text/latex": [
       "$\\displaystyle A=\\left[\\begin{matrix}1 & 1 & 2\\\\2 & 1 & 1\\\\1 & 2 & 1\\end{matrix}\\right]$"
      ],
      "text/plain": [
       "<IPython.core.display.Math object>"
      ]
     },
     "metadata": {},
     "output_type": "display_data"
    },
    {
     "data": {
      "text/latex": [
       "$\\displaystyle U=\\left[\\begin{matrix}1 & 1 & 2\\\\0 & -1 & -3\\\\0 & 0 & 4\\end{matrix}\\right]$"
      ],
      "text/plain": [
       "<IPython.core.display.Math object>"
      ]
     },
     "metadata": {},
     "output_type": "display_data"
    }
   ],
   "source": [
    "A = Matrix(3,3,(1,1,2,2,1,1,1,2,1))\n",
    "display(Math(\"A=\"+latex(A)))\n",
    "display(Math(\"U=\"+latex(A.echelon_form())))"
   ]
  },
  {
   "cell_type": "markdown",
   "metadata": {},
   "source": [
    "(b) A has no zero entries but R = I\n",
    "(c) A has no zero entries but R = U\n",
    "(d) A = U = 2R"
   ]
  },
  {
   "cell_type": "code",
   "execution_count": 353,
   "metadata": {},
   "outputs": [
    {
     "data": {
      "text/latex": [
       "$\\displaystyle A=\\left[\\begin{matrix}0.5 & 0 & 0\\\\0.5 & 0.5 & 0\\\\0 & 0 & 0.5\\end{matrix}\\right]$"
      ],
      "text/plain": [
       "<IPython.core.display.Math object>"
      ]
     },
     "metadata": {},
     "output_type": "display_data"
    },
    {
     "data": {
      "text/latex": [
       "$\\displaystyle U=\\left[\\begin{matrix}0.5 & 0 & 0\\\\0 & 0.25 & 0\\\\0 & 0 & 0.5\\end{matrix}\\right]$"
      ],
      "text/plain": [
       "<IPython.core.display.Math object>"
      ]
     },
     "metadata": {},
     "output_type": "display_data"
    },
    {
     "data": {
      "text/latex": [
       "$\\displaystyle R=\\left[\\begin{matrix}1 & 0 & 0\\\\0 & 1 & 0\\\\0 & 0 & 1\\end{matrix}\\right]$"
      ],
      "text/plain": [
       "<IPython.core.display.Math object>"
      ]
     },
     "metadata": {},
     "output_type": "display_data"
    }
   ],
   "source": [
    "A = Matrix(3,3,(1,0,0,1,1,0,0,0,1))\n",
    "display(Math(\"A=\"+latex(0.5*A)))\n",
    "\n",
    "display(Math(\"U=\"+latex(((0.5*A).echelon_form()))))\n",
    "display(Math(\"R=\"+latex((0.5*A).rref()[0])))"
   ]
  },
  {
   "cell_type": "markdown",
   "metadata": {},
   "source": [
    "### Problem 3.2.37 \n",
    "Kirchhoff's Law Problem:"
   ]
  },
  {
   "cell_type": "code",
   "execution_count": 415,
   "metadata": {},
   "outputs": [
    {
     "data": {
      "image/png": "[encoded data removed]",
      "text/latex": [
       "$\\displaystyle - y_{1} - y_{2} + y_{3} = 0$"
      ],
      "text/plain": [
       "-y₁ - y₂ + y₃ = 0"
      ]
     },
     "metadata": {},
     "output_type": "display_data"
    },
    {
     "data": {
      "image/png": "[encoded data removed]",
      "text/latex": [
       "$\\displaystyle y_{1} - y_{2} - y_{5} = 0$"
      ],
      "text/plain": [
       "y₁ - y₂ - y₅ = 0"
      ]
     },
     "metadata": {},
     "output_type": "display_data"
    },
    {
     "data": {
      "image/png": "[encoded data removed]",
      "text/latex": [
       "$\\displaystyle y_{2} - y_{3} - y_{6} = 0$"
      ],
      "text/plain": [
       "y₂ - y₃ - y₆ = 0"
      ]
     },
     "metadata": {},
     "output_type": "display_data"
    },
    {
     "data": {
      "image/png": "[encoded data removed]",
      "text/latex": [
       "$\\displaystyle y_{4} + y_{5} + y_{6} = 0$"
      ],
      "text/plain": [
       "y₄ + y₅ + y₆ = 0"
      ]
     },
     "metadata": {},
     "output_type": "display_data"
    },
    {
     "data": {
      "text/latex": [
       "$\\displaystyle \\left[\\begin{matrix}- y_{1} - 2 y_{2} + y_{3}\\\\y_{1} - y_{2} - y_{5}\\\\y_{2} - y_{3} - y_{6}\\\\y_{4} + y_{5} + y_{6}\\end{matrix}\\right]=\\left[\\begin{matrix}0\\\\0\\\\0\\\\0\\end{matrix}\\right]$"
      ],
      "text/plain": [
       "<IPython.core.display.Math object>"
      ]
     },
     "metadata": {},
     "output_type": "display_data"
    },
    {
     "data": {
      "text/latex": [
       "$\\displaystyle \\left[\\begin{matrix}-1 & -2 & 1 & 0 & 0 & 0\\\\1 & -1 & 0 & 0 & -1 & 0\\\\0 & 1 & -1 & 0 & 0 & -1\\\\0 & 0 & 0 & 1 & 1 & 1\\end{matrix}\\right]$"
      ],
      "text/plain": [
       "⎡-1  -2  1   0  0   0 ⎤\n",
       "⎢                     ⎥\n",
       "⎢1   -1  0   0  -1  0 ⎥\n",
       "⎢                     ⎥\n",
       "⎢0   1   -1  0  0   -1⎥\n",
       "⎢                     ⎥\n",
       "⎣0   0   0   1  1   1 ⎦"
      ]
     },
     "metadata": {},
     "output_type": "display_data"
    },
    {
     "data": {
      "text/latex": [
       "$\\displaystyle K_{rref} =\\left[\\begin{matrix}1 & 0 & 0 & 0 & - \\frac{1}{2} & \\frac{1}{2}\\\\0 & 1 & 0 & 0 & \\frac{1}{2} & \\frac{1}{2}\\\\0 & 0 & 1 & 0 & \\frac{1}{2} & \\frac{3}{2}\\\\0 & 0 & 0 & 1 & 1 & 1\\end{matrix}\\right]$"
      ],
      "text/plain": [
       "<IPython.core.display.Math object>"
      ]
     },
     "metadata": {},
     "output_type": "display_data"
    },
    {
     "data": {
      "text/latex": [
       "$\\displaystyle s_1 =\\left[\\begin{matrix}- \\frac{1}{2}\\\\- \\frac{1}{2}\\\\- \\frac{3}{2}\\\\-1\\\\0\\\\1\\end{matrix}\\right]$"
      ],
      "text/plain": [
       "<IPython.core.display.Math object>"
      ]
     },
     "metadata": {},
     "output_type": "display_data"
    },
    {
     "data": {
      "text/latex": [
       "$\\displaystyle K_{rref} s_1 =\\left[\\begin{matrix}1 & 0 & 0 & 0 & - \\frac{1}{2} & \\frac{1}{2}\\\\0 & 1 & 0 & 0 & \\frac{1}{2} & \\frac{1}{2}\\\\0 & 0 & 1 & 0 & \\frac{1}{2} & \\frac{3}{2}\\\\0 & 0 & 0 & 1 & 1 & 1\\end{matrix}\\right]\\left[\\begin{matrix}- \\frac{1}{2}\\\\- \\frac{1}{2}\\\\- \\frac{3}{2}\\\\-1\\\\0\\\\1\\end{matrix}\\right]=\\left[\\begin{matrix}0\\\\0\\\\0\\\\0\\end{matrix}\\right]$"
      ],
      "text/plain": [
       "<IPython.core.display.Math object>"
      ]
     },
     "metadata": {},
     "output_type": "display_data"
    },
    {
     "data": {
      "text/latex": [
       "$\\displaystyle s_2 =\\left[\\begin{matrix}\\frac{1}{2}\\\\- \\frac{1}{2}\\\\- \\frac{1}{2}\\\\-1\\\\1\\\\0\\end{matrix}\\right]$"
      ],
      "text/plain": [
       "<IPython.core.display.Math object>"
      ]
     },
     "metadata": {},
     "output_type": "display_data"
    },
    {
     "data": {
      "text/latex": [
       "$\\displaystyle K_{rref} s_2 =\\left[\\begin{matrix}1 & 0 & 0 & 0 & - \\frac{1}{2} & \\frac{1}{2}\\\\0 & 1 & 0 & 0 & \\frac{1}{2} & \\frac{1}{2}\\\\0 & 0 & 1 & 0 & \\frac{1}{2} & \\frac{3}{2}\\\\0 & 0 & 0 & 1 & 1 & 1\\end{matrix}\\right]\\left[\\begin{matrix}\\frac{1}{2}\\\\- \\frac{1}{2}\\\\- \\frac{1}{2}\\\\-1\\\\1\\\\0\\end{matrix}\\right]=\\left[\\begin{matrix}0\\\\0\\\\0\\\\0\\end{matrix}\\right]$"
      ],
      "text/plain": [
       "<IPython.core.display.Math object>"
      ]
     },
     "metadata": {},
     "output_type": "display_data"
    },
    {
     "name": "stdout",
     "output_type": "stream",
     "text": [
      "Every solution Ky=0: \n"
     ]
    },
    {
     "data": {
      "text/latex": [
       "$\\displaystyle y = y_6\\left[\\begin{matrix}- \\frac{1}{2}\\\\- \\frac{1}{2}\\\\- \\frac{3}{2}\\\\-1\\\\0\\\\1\\end{matrix}\\right]+ y_5\\left[\\begin{matrix}\\frac{1}{2}\\\\- \\frac{1}{2}\\\\- \\frac{1}{2}\\\\-1\\\\1\\\\0\\end{matrix}\\right]$"
      ],
      "text/plain": [
       "<IPython.core.display.Math object>"
      ]
     },
     "metadata": {},
     "output_type": "display_data"
    }
   ],
   "source": [
    "y_1, y_2, y_3, y_4, y_5, y_6 = symbols('y_1, y_2, y_3, y_4, y_5, y_6 ')\n",
    "display(Eq(y_3 - y_1 - y_2, 0))\n",
    "display(Eq(y_1-y_2-y_5,0))\n",
    "display(Eq(y_2 - y_3 -y_6,0))\n",
    "display(Eq(y_4+y_5+y_6))\n",
    "\n",
    "y = Matrix([[y_1], [y_2], [y_3], [y_4], [y_5], [y_6]])\n",
    "display(Math(latex(K*y) + \"=\" + latex(zeros(4,1))))\n",
    "\n",
    "\n",
    "K = Matrix([[-1,-2,1,0,0,0],[1,-1,0,0,-1,0],[0,1,-1,0,0,-1],[0,0,0,1,1,1]])\n",
    "display(K)\n",
    "display(Math(\"K_{rref} =\" + latex(K.rref()[0])))\n",
    "\n",
    "s_1 = Matrix(6,1,(Rational(-1/2),Rational(-1/2),Rational(-3/2),-1,0,1))\n",
    "display(Math(\"s_1 =\" + latex(s_1)))\n",
    "display(Math(latex(\"K_{rref} s_1 =\") + latex(K.rref()[0]) + latex(s_1) + \"=\" + latex(K.rref()[0]*s_1)))\n",
    "\n",
    "s_2 = Matrix(6,1,(Rational(1/2),Rational(-1/2),Rational(-1/2),-1,1,0))\n",
    "display(Math(\"s_2 =\" + latex(s_2)))\n",
    "display(Math(latex(\"K_{rref} s_2 =\") + latex(K.rref()[0]) + latex(s_2) + \"=\" + latex(K.rref()[0]*s_2)))\n",
    "\n",
    "print(\"Every solution Ky=0: \")\n",
    "display(Math(\"y = y_6\" + latex(s_1) + \"+ y_5\" + latex(s_2)))\n"
   ]
  },
  {
   "cell_type": "markdown",
   "metadata": {},
   "source": [
    "## Section 3.3\n",
    "### Problem 3.3.1\n",
    "\n",
    "Which of the following are an equivalent defintion for the rank, r:  \n",
    "\n",
    "(a) The number of non-zero rows in R.   (Yes, I think.)  \n",
    "(b) The number of columns minus the total number rows.  (No.  r could be less, take an m x n matrix of zeros with m>n.)  \n",
    "(c) The number of columns minus the number of free columns.  (Yes, almost by definition.)  \n",
    "(d) The number of 1/s in the matrix R.  (Lol, no)\n"
   ]
  },
  {
   "cell_type": "markdown",
   "metadata": {},
   "source": [
    "### Problem 3.3.3\n",
    "Find the reduced R for each of these block matrices:\n"
   ]
  },
  {
   "cell_type": "code",
   "execution_count": 524,
   "metadata": {},
   "outputs": [
    {
     "data": {
      "text/latex": [
       "$\\displaystyle A=\\left[\\begin{matrix}0 & 0 & 0\\\\0 & 0 & 3\\\\2 & 4 & 6\\end{matrix}\\right]$"
      ],
      "text/plain": [
       "<IPython.core.display.Math object>"
      ]
     },
     "metadata": {},
     "output_type": "display_data"
    },
    {
     "data": {
      "text/latex": [
       "$\\displaystyle A_{rref}=\\left[\\begin{matrix}1 & 2 & 0\\\\0 & 0 & 1\\\\0 & 0 & 0\\end{matrix}\\right]$"
      ],
      "text/plain": [
       "<IPython.core.display.Math object>"
      ]
     },
     "metadata": {},
     "output_type": "display_data"
    },
    {
     "data": {
      "text/latex": [
       "$\\displaystyle B=[A , A]=\\left[\\begin{matrix}0 & 0 & 0 & 0 & 0 & 0\\\\0 & 0 & 3 & 0 & 0 & 3\\\\2 & 4 & 6 & 2 & 4 & 6\\end{matrix}\\right]$"
      ],
      "text/plain": [
       "<IPython.core.display.Math object>"
      ]
     },
     "metadata": {},
     "output_type": "display_data"
    },
    {
     "data": {
      "text/latex": [
       "$\\displaystyle B_{rref}=\\left[\\begin{matrix}1 & 2 & 0 & 1 & 2 & 0\\\\0 & 0 & 1 & 0 & 0 & 1\\\\0 & 0 & 0 & 0 & 0 & 0\\end{matrix}\\right]= [A_{rref} , A_{rref}]$"
      ],
      "text/plain": [
       "<IPython.core.display.Math object>"
      ]
     },
     "metadata": {},
     "output_type": "display_data"
    },
    {
     "data": {
      "text/latex": [
       "$\\displaystyle C=\\left[\\begin{matrix}A & A\\\\A & 0\\end{matrix}\\right]=\\left[\\begin{matrix}0 & 0 & 0 & 0 & 0 & 0\\\\0 & 0 & 3 & 0 & 0 & 3\\\\2 & 4 & 6 & 2 & 4 & 6\\\\0 & 0 & 2 & 0 & 0 & 0\\\\0 & 0 & 4 & 0 & 0 & 0\\\\0 & 3 & 6 & 0 & 0 & 0\\end{matrix}\\right]$"
      ],
      "text/plain": [
       "<IPython.core.display.Math object>"
      ]
     },
     "metadata": {},
     "output_type": "display_data"
    },
    {
     "data": {
      "text/latex": [
       "$\\displaystyle C_{rref}=\\left[\\begin{matrix}1 & 0 & 0 & 1 & 2 & 0\\\\0 & 1 & 0 & 0 & 0 & 0\\\\0 & 0 & 1 & 0 & 0 & 0\\\\0 & 0 & 0 & 0 & 0 & 1\\\\0 & 0 & 0 & 0 & 0 & 0\\\\0 & 0 & 0 & 0 & 0 & 0\\end{matrix}\\right]= ?$"
      ],
      "text/plain": [
       "<IPython.core.display.Math object>"
      ]
     },
     "metadata": {},
     "output_type": "display_data"
    }
   ],
   "source": [
    "A = Matrix(3,3,(0,0,0,0,0,3,2,4,6))\n",
    "display(Math(\"A=\"+latex(A)))\n",
    "display(Math(\"A_{rref}=\"+latex(A.rref()[0])))\n",
    "\n",
    "B = Matrix([A.transpose(),A.transpose()]).transpose()\n",
    "display(Math(\"B=[A , A]=\"+latex(B)))\n",
    "\n",
    "#display(Math(\"B=\"+latex(B)))\n",
    "display(Math(\"B_{rref}=\"+latex(B.rref()[0])+\"= [A_{rref} , A_{rref}]\"))\n",
    "\n",
    "M = Matrix([A,zeros(3,3)])\n",
    "C = Matrix([B, M.transpose()])\n",
    "a = symbols('A')\n",
    "display(Math(\"C=\" + latex(Matrix([[a,a],[a,0]])) +\"=\"+latex(C)))\n",
    "display(Math(\"C_{rref}=\"+latex(C.rref()[0])+\"= ?\"))"
   ]
  },
  {
   "cell_type": "markdown",
   "metadata": {},
   "source": [
    "### Problem 3.3.7\n",
    "What are the special solutions to Rx=0 and y<sup>T</sup>R=0 for these R:"
   ]
  },
  {
   "cell_type": "code",
   "execution_count": 550,
   "metadata": {},
   "outputs": [
    {
     "data": {
      "text/latex": [
       "$\\displaystyle R=\\left[\\begin{matrix}1 & 0 & 2 & 3\\\\0 & 1 & 4 & 5\\\\0 & 0 & 0 & 0\\end{matrix}\\right]$"
      ],
      "text/plain": [
       "<IPython.core.display.Math object>"
      ]
     },
     "metadata": {},
     "output_type": "display_data"
    },
    {
     "data": {
      "text/latex": [
       "$\\displaystyle Rs_1=\\left[\\begin{matrix}1 & 0 & 2 & 3\\\\0 & 1 & 4 & 5\\\\0 & 0 & 0 & 0\\end{matrix}\\right]\\left[\\begin{matrix}-2\\\\-4\\\\1\\\\0\\end{matrix}\\right]=\\left[\\begin{matrix}0\\\\0\\\\0\\end{matrix}\\right]$"
      ],
      "text/plain": [
       "<IPython.core.display.Math object>"
      ]
     },
     "metadata": {},
     "output_type": "display_data"
    },
    {
     "data": {
      "text/latex": [
       "$\\displaystyle Rs_2=\\left[\\begin{matrix}1 & 0 & 2 & 3\\\\0 & 1 & 4 & 5\\\\0 & 0 & 0 & 0\\end{matrix}\\right]\\left[\\begin{matrix}-3\\\\-5\\\\0\\\\1\\end{matrix}\\right]=\\left[\\begin{matrix}0\\\\0\\\\0\\end{matrix}\\right]$"
      ],
      "text/plain": [
       "<IPython.core.display.Math object>"
      ]
     },
     "metadata": {},
     "output_type": "display_data"
    },
    {
     "data": {
      "text/latex": [
       "$\\displaystyle R^T=\\left[\\begin{matrix}1 & 0 & 0\\\\0 & 1 & 0\\\\2 & 4 & 0\\\\3 & 5 & 0\\end{matrix}\\right]$"
      ],
      "text/plain": [
       "<IPython.core.display.Math object>"
      ]
     },
     "metadata": {},
     "output_type": "display_data"
    },
    {
     "data": {
      "text/latex": [
       "$\\displaystyle R^T_{echelon}=\\left[\\begin{matrix}1 & 0 & 0\\\\0 & 1 & 0\\\\0 & 0 & 0\\\\0 & 0 & 0\\end{matrix}\\right]$"
      ],
      "text/plain": [
       "<IPython.core.display.Math object>"
      ]
     },
     "metadata": {},
     "output_type": "display_data"
    },
    {
     "data": {
      "text/latex": [
       "$\\displaystyle Rt_1=\\left[\\begin{matrix}1 & 0 & 0\\\\0 & 1 & 0\\\\0 & 0 & 0\\\\0 & 0 & 0\\end{matrix}\\right]\\left[\\begin{matrix}0\\\\0\\\\1\\end{matrix}\\right]=\\left[\\begin{matrix}0\\\\0\\\\0\\\\0\\end{matrix}\\right]$"
      ],
      "text/plain": [
       "<IPython.core.display.Math object>"
      ]
     },
     "metadata": {},
     "output_type": "display_data"
    },
    {
     "data": {
      "text/latex": [
       "$\\displaystyle t_1^TR = \\left[\\begin{matrix}0 & 0 & 1\\end{matrix}\\right]\\left[\\begin{matrix}1 & 0 & 2 & 3\\\\0 & 1 & 4 & 5\\\\0 & 0 & 0 & 0\\end{matrix}\\right]=\\left[\\begin{matrix}0 & 0 & 0 & 0\\end{matrix}\\right]$"
      ],
      "text/plain": [
       "<IPython.core.display.Math object>"
      ]
     },
     "metadata": {},
     "output_type": "display_data"
    }
   ],
   "source": [
    "R = Matrix(3,4,(1,0,2,3,0,1,4,5,0,0,0,0))\n",
    "display(Math(\"R=\" + latex(R)))\n",
    "s_1 = Matrix([-2,-4,1,0])\n",
    "display(Math(\"Rs_1=\"+ latex(R)+latex(s_1)+\"=\"+latex(R*s_1)))\n",
    "\n",
    "s_2 = Matrix([-3,-5,0,1])\n",
    "display(Math(\"Rs_2=\"+ latex(R)+latex(s_2)+\"=\"+latex(R*s_2)))\n",
    "\n",
    "display(Math(\"R^T=\" + latex(R.transpose())))\n",
    "Q = R.transpose().rref()[0]\n",
    "display(Math(\"R^T_{echelon}=\" + latex(Q)))\n",
    "t_1 = Matrix([0,0,1])\n",
    "display(Math(\"Rt_1=\"+ latex(Q)+latex(t_1)+\"=\"+latex(Q*t_1)))\n",
    "display(Math(\"t_1^TR = \" + latex(t_1.transpose())+latex(R)+\"=\"+latex(t_1.transpose()*R)))"
   ]
  },
  {
   "cell_type": "markdown",
   "metadata": {},
   "source": [
    "### Problem 3.3.8\n",
    "Fill out these Matrices so that they have rank 1:"
   ]
  },
  {
   "cell_type": "code",
   "execution_count": 581,
   "metadata": {},
   "outputs": [
    {
     "data": {
      "text/latex": [
       "$\\displaystyle A=\\left[\\begin{matrix}1 & 2 & 4\\\\2 & 4 & 8\\\\4 & 8 & 16\\end{matrix}\\right]$"
      ],
      "text/plain": [
       "<IPython.core.display.Math object>"
      ]
     },
     "metadata": {},
     "output_type": "display_data"
    },
    {
     "data": {
      "text/latex": [
       "$\\displaystyle R=\\left[\\begin{matrix}1 & 2 & 4\\\\0 & 0 & 0\\\\0 & 0 & 0\\end{matrix}\\right]$"
      ],
      "text/plain": [
       "<IPython.core.display.Math object>"
      ]
     },
     "metadata": {},
     "output_type": "display_data"
    },
    {
     "data": {
      "text/latex": [
       "$\\displaystyle Rank(A)=1$"
      ],
      "text/plain": [
       "<IPython.core.display.Math object>"
      ]
     },
     "metadata": {},
     "output_type": "display_data"
    },
    {
     "data": {
      "text/latex": [
       "$\\displaystyle M=\\left[\\begin{matrix}a & b\\\\c & \\frac{b c}{a}\\end{matrix}\\right]$"
      ],
      "text/plain": [
       "<IPython.core.display.Math object>"
      ]
     },
     "metadata": {},
     "output_type": "display_data"
    },
    {
     "data": {
      "text/latex": [
       "$\\displaystyle R=\\left[\\begin{matrix}1 & \\frac{b}{a}\\\\0 & 0\\end{matrix}\\right]$"
      ],
      "text/plain": [
       "<IPython.core.display.Math object>"
      ]
     },
     "metadata": {},
     "output_type": "display_data"
    },
    {
     "data": {
      "text/latex": [
       "$\\displaystyle Rank(M)=1$"
      ],
      "text/plain": [
       "<IPython.core.display.Math object>"
      ]
     },
     "metadata": {},
     "output_type": "display_data"
    }
   ],
   "source": [
    "A = Matrix([[1,2,4],[2,4,8],[4,8,16]])\n",
    "display(Math(\"A=\" + latex(A)))\n",
    "display(Math(\"R=\" + latex(A.rref()[0])))\n",
    "display(Math(\"Rank(A)=\"+ latex(A.rank())))\n",
    "\n",
    "a,b,c = symbols('a,b,c')\n",
    "M = Matrix([[a,b],[c,c*b/a]])\n",
    "display(Math(\"M=\" + latex(M)))\n",
    "display(Math(\"R=\"+latex(M.rref()[0])))\n",
    "display(Math(\"Rank(M)=\"+ latex(M.rank())))"
   ]
  },
  {
   "cell_type": "markdown",
   "metadata": {},
   "source": [
    "### Problem 3.3.10"
   ]
  },
  {
   "cell_type": "code",
   "execution_count": 591,
   "metadata": {},
   "outputs": [
    {
     "data": {
      "text/latex": [
       "$\\displaystyle \\left[\\begin{matrix}1 & 2 & 2\\end{matrix}\\right]\\left[\\begin{matrix}3\\\\1\\\\4\\end{matrix}\\right]=\\left[\\begin{matrix}3 & 6 & 6\\\\1 & 2 & 2\\\\4 & 8 & 8\\end{matrix}\\right]$"
      ],
      "text/plain": [
       "<IPython.core.display.Math object>"
      ]
     },
     "metadata": {},
     "output_type": "display_data"
    }
   ],
   "source": [
    "v = Matrix([1,2,2])\n",
    "u = Matrix([3,1,4])\n",
    "display(Math(latex(v.transpose()) + latex(u)+\"=\"+latex(u*v.transpose())))"
   ]
  },
  {
   "cell_type": "markdown",
   "metadata": {},
   "source": [
    "### Problem 3.3.12\n",
    "If A has rank r, then it has an r by r submatrix S that is invertible.  Remove m-r rows and n-r columns to find an invertible submatrix S inside A, B, and C."
   ]
  },
  {
   "cell_type": "code",
   "execution_count": 622,
   "metadata": {},
   "outputs": [
    {
     "data": {
      "text/latex": [
       "$\\displaystyle A=\\left[\\begin{matrix}1 & 2 & 3\\\\1 & 2 & 4\\end{matrix}\\right]$"
      ],
      "text/plain": [
       "<IPython.core.display.Math object>"
      ]
     },
     "metadata": {},
     "output_type": "display_data"
    },
    {
     "data": {
      "text/latex": [
       "$\\displaystyle R_{A} =\\left( \\left[\\begin{matrix}1 & 2 & 0\\\\0 & 0 & 1\\end{matrix}\\right], \\  \\left( 0, \\  2\\right)\\right)$"
      ],
      "text/plain": [
       "<IPython.core.display.Math object>"
      ]
     },
     "metadata": {},
     "output_type": "display_data"
    },
    {
     "data": {
      "text/latex": [
       "$\\displaystyle S = \\left[\\begin{matrix}1 & 3\\\\1 & 4\\end{matrix}\\right]$"
      ],
      "text/plain": [
       "<IPython.core.display.Math object>"
      ]
     },
     "metadata": {},
     "output_type": "display_data"
    },
    {
     "data": {
      "text/latex": [
       "$\\displaystyle S^{-1} =\\left[\\begin{matrix}4 & -3\\\\-1 & 1\\end{matrix}\\right]$"
      ],
      "text/plain": [
       "<IPython.core.display.Math object>"
      ]
     },
     "metadata": {},
     "output_type": "display_data"
    }
   ],
   "source": [
    "A = Matrix(2,3,(1,2,3,1,2,4))\n",
    "display(Math(\"A=\" + latex(A)))\n",
    "display(Math(\"R_{A} =\" + latex(A.rref())))\n",
    "piv = A.rref()[1]\n",
    "S = A[:,A.rref()[1]]\n",
    "display(Math(\"S = \" + latex(S)))\n",
    "display(Math(\"S^{-1} =\" + latex(S.inv())))"
   ]
  },
  {
   "cell_type": "markdown",
   "metadata": {},
   "source": [
    "### Problem 3.3.19\n",
    "Suppose A & B are n by n matrices, and AB = I.  Prove from rank(AB)<=rank(A) that the rank of A is n.  So A is invertible and B must be its two-sided inverse.  Therefore BA = I.\n",
    "\n",
    "**Proof: Rank(A) = n**  \n",
    "Rank(AB) = Rank(I) = n  \n",
    "We know Rank(AB) = n <= Rank(A)  \n",
    "Rank(A) is at most n.  So Rank(AB)=Rank(A)=n"
   ]
  },
  {
   "cell_type": "markdown",
   "metadata": {},
   "source": [
    "## Section 3.4\n",
    "### Probelm 3.4.1\n",
    "Execute the six steps of Worked Example 3.4 A to descrive the column space and nullspace of A and the complete solution to Ax = b:"
   ]
  },
  {
   "cell_type": "code",
   "execution_count": 735,
   "metadata": {},
   "outputs": [
    {
     "data": {
      "text/latex": [
       "$\\displaystyle A = \\left[\\begin{matrix}2 & 4 & 6 & 4\\\\2 & 5 & 7 & 6\\\\2 & 3 & 5 & 2\\end{matrix}\\right]$"
      ],
      "text/plain": [
       "<IPython.core.display.Math object>"
      ]
     },
     "metadata": {},
     "output_type": "display_data"
    },
    {
     "data": {
      "text/latex": [
       "$\\displaystyle b = \\left[\\begin{matrix}b_{1}\\\\b_{2}\\\\b_{3}\\end{matrix}\\right] = \\left[\\begin{matrix}4\\\\3\\\\5\\end{matrix}\\right]$"
      ],
      "text/plain": [
       "<IPython.core.display.Math object>"
      ]
     },
     "metadata": {},
     "output_type": "display_data"
    },
    {
     "data": {
      "text/latex": [
       "$\\displaystyle A_{rref} = \\left[\\begin{matrix}1 & 0 & 1 & -2\\\\0 & 1 & 1 & 2\\\\0 & 0 & 0 & 0\\end{matrix}\\right]$"
      ],
      "text/plain": [
       "<IPython.core.display.Math object>"
      ]
     },
     "metadata": {},
     "output_type": "display_data"
    },
    {
     "name": "stdout",
     "output_type": "stream",
     "text": [
      "\n",
      "The Columnspace:\n"
     ]
    },
    {
     "data": {
      "text/latex": [
       "$\\displaystyle LU decomposition:\\left( \\left[\\begin{matrix}1 & 0 & 0\\\\1 & 1 & 0\\\\1 & -1 & 1\\end{matrix}\\right], \\  \\left[\\begin{matrix}2 & 4 & 6 & 4\\\\0 & 1 & 1 & 2\\\\0 & 0 & 0 & 0\\end{matrix}\\right], \\  \\left[ \\right]\\right)$"
      ],
      "text/plain": [
       "<IPython.core.display.Math object>"
      ]
     },
     "metadata": {},
     "output_type": "display_data"
    },
    {
     "data": {
      "text/latex": [
       "$\\displaystyle L^{-1}b =\\left[\\begin{matrix}b_{1}\\\\- b_{1} + b_{2}\\\\- 2 b_{1} + b_{2} + b_{3}\\end{matrix}\\right]= c =\\left[\\begin{matrix}4\\\\-1\\\\0\\end{matrix}\\right]$"
      ],
      "text/plain": [
       "<IPython.core.display.Math object>"
      ]
     },
     "metadata": {},
     "output_type": "display_data"
    },
    {
     "data": {
      "image/png": "[encoded data removed]",
      "text/latex": [
       "$\\displaystyle - 2 b_{1} + b_{2} + b_{3} = 0$"
      ],
      "text/plain": [
       "-2⋅b₁ + b₂ + b₃ = 0"
      ]
     },
     "metadata": {},
     "output_type": "display_data"
    },
    {
     "data": {
      "text/latex": [
       "$\\displaystyle Col(A) =\\left[\\begin{matrix}2\\\\2\\\\2\\end{matrix}\\right]x_0 + \\left[\\begin{matrix}4\\\\5\\\\3\\end{matrix}\\right]x_1$"
      ],
      "text/plain": [
       "<IPython.core.display.Math object>"
      ]
     },
     "metadata": {},
     "output_type": "display_data"
    },
    {
     "name": "stdout",
     "output_type": "stream",
     "text": [
      "\n",
      "The Nullspace:\n"
     ]
    },
    {
     "data": {
      "text/latex": [
       "$\\displaystyle As_0 =\\left[\\begin{matrix}2 & 4 & 6 & 4\\\\2 & 5 & 7 & 6\\\\2 & 3 & 5 & 2\\end{matrix}\\right]\\left[\\begin{matrix}2\\\\-2\\\\0\\\\1\\end{matrix}\\right] = \\left[\\begin{matrix}0\\\\0\\\\0\\end{matrix}\\right]$"
      ],
      "text/plain": [
       "<IPython.core.display.Math object>"
      ]
     },
     "metadata": {},
     "output_type": "display_data"
    },
    {
     "data": {
      "text/latex": [
       "$\\displaystyle As_1 =\\left[\\begin{matrix}2 & 4 & 6 & 4\\\\2 & 5 & 7 & 6\\\\2 & 3 & 5 & 2\\end{matrix}\\right]\\left[\\begin{matrix}-1\\\\-1\\\\1\\\\0\\end{matrix}\\right] = \\left[\\begin{matrix}0\\\\0\\\\0\\end{matrix}\\right]$"
      ],
      "text/plain": [
       "<IPython.core.display.Math object>"
      ]
     },
     "metadata": {},
     "output_type": "display_data"
    },
    {
     "data": {
      "text/latex": [
       "$\\displaystyle Null(A)= \\left[\\begin{matrix}2\\\\-2\\\\0\\\\1\\end{matrix}\\right]x_4 + \\left[\\begin{matrix}-1\\\\-1\\\\1\\\\0\\end{matrix}\\right]x_3$"
      ],
      "text/plain": [
       "<IPython.core.display.Math object>"
      ]
     },
     "metadata": {},
     "output_type": "display_data"
    },
    {
     "name": "stdout",
     "output_type": "stream",
     "text": [
      "\n",
      "Particular Solution:\n"
     ]
    },
    {
     "data": {
      "text/latex": [
       "$\\displaystyle L^{-1}b = $"
      ],
      "text/plain": [
       "<IPython.core.display.Math object>"
      ]
     },
     "metadata": {},
     "output_type": "display_data"
    },
    {
     "data": {
      "text/latex": [
       "$\\displaystyle Ax_p =\\left[\\begin{matrix}2 & 4 & 6 & 4\\\\2 & 5 & 7 & 6\\\\2 & 3 & 5 & 2\\end{matrix}\\right]\\left[\\begin{matrix}4\\\\-1\\\\0\\\\0\\end{matrix}\\right] = \\left[\\begin{matrix}4\\\\3\\\\5\\end{matrix}\\right]$"
      ],
      "text/plain": [
       "<IPython.core.display.Math object>"
      ]
     },
     "metadata": {},
     "output_type": "display_data"
    },
    {
     "name": "stdout",
     "output_type": "stream",
     "text": [
      "\n",
      "Complete Solution:\n"
     ]
    },
    {
     "data": {
      "text/latex": [
       "$\\displaystyle x = x_p + x_n =\\left[\\begin{matrix}4\\\\-1\\\\0\\\\0\\end{matrix}\\right]+\\left[\\begin{matrix}2\\\\-2\\\\0\\\\1\\end{matrix}\\right]x_4 + \\left[\\begin{matrix}-1\\\\-1\\\\1\\\\0\\end{matrix}\\right]x_3$"
      ],
      "text/plain": [
       "<IPython.core.display.Math object>"
      ]
     },
     "metadata": {},
     "output_type": "display_data"
    },
    {
     "name": "stdout",
     "output_type": "stream",
     "text": [
      "The fast way:\n"
     ]
    },
    {
     "data": {
      "image/png": "[encoded data removed]",
      "text/latex": [
       "$\\displaystyle \\left\\{\\left( - x_{3} + 2 x_{4} + 4, \\  - x_{3} - 2 x_{4} - 1, \\  x_{3}, \\  x_{4}\\right)\\right\\}$"
      ],
      "text/plain": [
       "{(-x₃ + 2⋅x₄ + 4, -x₃ - 2⋅x₄ - 1, x₃, x₄)}"
      ]
     },
     "execution_count": 735,
     "metadata": {},
     "output_type": "execute_result"
    }
   ],
   "source": [
    "A = Matrix([[2,4,6,4],[2,5,7,6],[2,3,5,2]])\n",
    "b_1, b_2, b_3 = symbols('b_1, b_2, b_3')\n",
    "b = Matrix([b_1, b_2, b_3])\n",
    "\n",
    "display(Math(\"A = \" + latex(A)))\n",
    "display(Math(\"b = \" + latex(b) + \" = \" +latex(Matrix([4,3,5]))))\n",
    "display(Math(\"A_{rref} = \" + latex(A.rref()[0])))\n",
    "\n",
    "##Augmented Matrix:\n",
    "#Ab = A.col_insert(A.shape[1], b)\n",
    "#display(Math(\"Ab = \" + latex(Ab)))\n",
    "#display(Ab.echelon_form())\n",
    "\n",
    "## The column space of A\n",
    "print(\"\\nThe Columnspace:\")\n",
    "display(Math(\"LU decomposition:\"+latex(A.LUdecomposition())))\n",
    "display(Math(\"L^{-1}b =\" + latex(A.LUdecomposition()[0].inv()*b) + \"= c =\"+latex(A.LUdecomposition()[0].inv()*Matrix([4,3,5])) ))\n",
    "display(Eq((A.LUdecomposition()[0].inv()*b)[2],0))\n",
    "#display(A.LUdecomposition()[0].inv()*A)\n",
    "display(Math(\"Col(A) =\"+latex(A[:,A.rref()[1][0]])+\"x_0 + \"+ latex(A[:,A.rref()[1][1]])+\"x_1\"))\n",
    "\n",
    "## The nullspace of A: \n",
    "print(\"\\nThe Nullspace:\")\n",
    "s_0 = Matrix([2,-2,0,1])\n",
    "display(Math(\"As_0 =\" + latex(A)+latex(s_0)+\" = \"+ latex(A.rref()[0]*s_0)))\n",
    "\n",
    "s_1 = Matrix([-1,-1,1,0])\n",
    "display(Math(\"As_1 =\" + latex(A)+latex(s_1)+\" = \"+ latex(A.rref()[0]*s_1)))\n",
    "\n",
    "display(Math(\"Null(A)= \" + latex(s_0)+\"x_4 + \" + latex(s_1)+ \"x_3\" ))\n",
    "\n",
    "## Particular solution\n",
    "print(\"\\nParticular Solution:\")\n",
    " # Fix free vars to zero\n",
    "display(Math(\"L^{-1}b = \"))\n",
    "x_p = Matrix([4,-1,0,0])\n",
    "#display(A.LUdecomposition()[1]*x_p)\n",
    "display(Math(\"Ax_p =\" + latex(A)+latex(x_p)+\" = \"+ latex(A*x_p)))\n",
    "print(\"\\nComplete Solution:\")\n",
    "display(Math(\"x = x_p + x_n =\" + latex(x_p)+ \"+\" + latex(s_0)+\"x_4 + \" + latex(s_1)+ \"x_3\"))\n",
    "\n",
    "print(\"The fast way:\")\n",
    "x_1, x_2, x_3, x_4 = symbols('x_1, x_2, x_3, x_4')\n",
    "b = Matrix([4,3,5])\n",
    "linsolve((A,b), [x_1,x_2,x_3,x_4])"
   ]
  },
  {
   "cell_type": "code",
   "execution_count": 782,
   "metadata": {},
   "outputs": [
    {
     "data": {
      "text/latex": [
       "$\\displaystyle A = \\left[\\begin{matrix}1\\\\3\\\\2\\end{matrix}\\right]\\left[\\begin{matrix}2 & 1 & 3\\end{matrix}\\right]=\\left[\\begin{matrix}2 & 1 & 3\\\\6 & 3 & 9\\\\4 & 2 & 6\\end{matrix}\\right]$"
      ],
      "text/plain": [
       "<IPython.core.display.Math object>"
      ]
     },
     "metadata": {},
     "output_type": "display_data"
    },
    {
     "name": "stdout",
     "output_type": "stream",
     "text": [
      "The fast way:\n"
     ]
    },
    {
     "data": {
      "image/png": "[encoded data removed]",
      "text/latex": [
       "$\\displaystyle \\left\\{\\left( - \\frac{x_{2}}{2} - \\frac{3 x_{3}}{2} + 5, \\  x_{2}, \\  x_{3}\\right)\\right\\}$"
      ],
      "text/plain": [
       "⎧⎛  x₂   3⋅x₃            ⎞⎫\n",
       "⎨⎜- ── - ──── + 5, x₂, x₃⎟⎬\n",
       "⎩⎝  2     2              ⎠⎭"
      ]
     },
     "metadata": {},
     "output_type": "display_data"
    },
    {
     "data": {
      "text/latex": [
       "$\\displaystyle x = x_p + x_n =\\left[\\begin{matrix}5\\\\0\\\\0\\end{matrix}\\right]+ x_2\\left[\\begin{matrix}- \\frac{1}{2}\\\\1\\\\0\\end{matrix}\\right]+x_3\\left[\\begin{matrix}- \\frac{3}{2}\\\\0\\\\1\\end{matrix}\\right]$"
      ],
      "text/plain": [
       "<IPython.core.display.Math object>"
      ]
     },
     "metadata": {},
     "output_type": "display_data"
    },
    {
     "name": "stdout",
     "output_type": "stream",
     "text": [
      "A bit slower:\n"
     ]
    },
    {
     "data": {
      "text/latex": [
       "$\\displaystyle A_{ech} = \\left[\\begin{matrix}2 & 1 & 3\\\\0 & 0 & 0\\\\0 & 0 & 0\\end{matrix}\\right]$"
      ],
      "text/plain": [
       "<IPython.core.display.Math object>"
      ]
     },
     "metadata": {},
     "output_type": "display_data"
    },
    {
     "data": {
      "text/latex": [
       "$\\displaystyle c = \\left[\\begin{matrix}10\\\\0\\\\0\\end{matrix}\\right]$"
      ],
      "text/plain": [
       "<IPython.core.display.Math object>"
      ]
     },
     "metadata": {},
     "output_type": "display_data"
    },
    {
     "data": {
      "text/latex": [
       "$\\displaystyle x_p = \\left[\\begin{matrix}5\\\\0\\\\0\\end{matrix}\\right]$"
      ],
      "text/plain": [
       "<IPython.core.display.Math object>"
      ]
     },
     "metadata": {},
     "output_type": "display_data"
    },
    {
     "data": {
      "text/latex": [
       "$\\displaystyle N(A) = \\left[ \\left[\\begin{matrix}- \\frac{1}{2}\\\\1\\\\0\\end{matrix}\\right], \\  \\left[\\begin{matrix}- \\frac{3}{2}\\\\0\\\\1\\end{matrix}\\right]\\right]$"
      ],
      "text/plain": [
       "<IPython.core.display.Math object>"
      ]
     },
     "metadata": {},
     "output_type": "display_data"
    },
    {
     "data": {
      "text/latex": [
       "$\\displaystyle x_n = x2\\left[\\begin{matrix}- \\frac{1}{2}\\\\1\\\\0\\end{matrix}\\right]+x_3\\left[\\begin{matrix}- \\frac{3}{2}\\\\0\\\\1\\end{matrix}\\right]$"
      ],
      "text/plain": [
       "<IPython.core.display.Math object>"
      ]
     },
     "metadata": {},
     "output_type": "display_data"
    },
    {
     "data": {
      "text/latex": [
       "$\\displaystyle x = x_p + x_n =\\left[\\begin{matrix}5\\\\0\\\\0\\end{matrix}\\right]+x2\\left[\\begin{matrix}- \\frac{1}{2}\\\\1\\\\0\\end{matrix}\\right]+x_3\\left[\\begin{matrix}- \\frac{3}{2}\\\\0\\\\1\\end{matrix}\\right]$"
      ],
      "text/plain": [
       "<IPython.core.display.Math object>"
      ]
     },
     "metadata": {},
     "output_type": "display_data"
    },
    {
     "name": "stdout",
     "output_type": "stream",
     "text": [
      "Conditions on b:\n"
     ]
    },
    {
     "data": {
      "text/latex": [
       "$\\displaystyle Ux = L^{-1}Ax = \\left[\\begin{matrix}2 & 1 & 3\\\\0 & 0 & 0\\\\0 & 0 & 0\\end{matrix}\\right]x=\\left[\\begin{matrix}b_{1}\\\\- 3 b_{1} + b_{2}\\\\- 2 b_{1} + b_{3}\\end{matrix}\\right]$"
      ],
      "text/plain": [
       "<IPython.core.display.Math object>"
      ]
     },
     "metadata": {},
     "output_type": "display_data"
    },
    {
     "data": {
      "image/png": "[encoded data removed]",
      "text/latex": [
       "$\\displaystyle 0 = - 3 b_{1} + b_{2}$"
      ],
      "text/plain": [
       "0 = -3⋅b₁ + b₂"
      ]
     },
     "metadata": {},
     "output_type": "display_data"
    },
    {
     "data": {
      "image/png": "[encoded data removed]",
      "text/latex": [
       "$\\displaystyle 0 = - 2 b_{1} + b_{3}$"
      ],
      "text/plain": [
       "0 = -2⋅b₁ + b₃"
      ]
     },
     "metadata": {},
     "output_type": "display_data"
    }
   ],
   "source": [
    "### Problem 3.4.2\n",
    "A = Matrix([1,3,2])*Matrix([2,1,3]).transpose()\n",
    "display(Math(\"A = \" + latex(Matrix([1,3,2])) + latex(Matrix([2,1,3]).transpose()) + \"=\"+latex(A)))\n",
    "b = Matrix([10,30,20])\n",
    "x_1, x_2, x_3 = symbols('x_1, x_2, x_3')\n",
    "\n",
    "print(\"The fast way:\")\n",
    "display(linsolve((A,b), (x_1, x_2, x_3)))\n",
    "display(Math(\"x = x_p + x_n =\" + latex(Matrix([5,0,0])) + \"+ x_2\"+latex(Matrix([Rational(-1/2),1,0])) + \"+x_3\" +latex(Matrix([Rational(-3/2),0,1]))))\n",
    "\n",
    "print(\"A bit slower:\")\n",
    "display(Math(\"A_{ech} = \" + latex(A.LUdecomposition()[1])))\n",
    "display(Math(\"c = \"+ latex(A.LUdecomposition()[0].inv()*b)))\n",
    "\n",
    "display(Math(\"x_p = \" + latex(Matrix([5,0,0]))))\n",
    "display(Math(\"N(A) = \" + latex(A.nullspace())))\n",
    "display(Math(\"x_n = \" + \"x2\" + latex(A.nullspace()[0]) + \"+x_3\"+ latex(A.nullspace()[1])))\n",
    "display(Math(\"x = x_p + x_n =\" + latex(Matrix([5,0,0])) + \"+x2\" + latex(A.nullspace()[0]) + \"+x_3\"+ latex(A.nullspace()[1])))\n",
    "\n",
    "print(\"Conditions on b:\")\n",
    "b_1, b_2, b_3 = symbols('b_1, b_2, b_3')\n",
    "b = Matrix([b_1,b_2,b_3])\n",
    "\n",
    "display(Math(\"Ux = L^{-1}Ax = \" + latex(A.LUdecomposition()[1]) + \"x=\" + latex(A.LUdecomposition()[0].inv()*b)))\n",
    "display(Eq(0,(A.LUdecomposition()[0].inv()*b)[1]))\n",
    "display(Eq(0,(A.LUdecomposition()[0].inv()*b)[2]))"
   ]
  },
  {
   "cell_type": "markdown",
   "metadata": {},
   "source": [
    "### Problem 3.4.8\n",
    "What vectors (b1, b2, b3) are in the column space of A?  Which combinations of the rows of A give zero?"
   ]
  },
  {
   "cell_type": "code",
   "execution_count": 792,
   "metadata": {},
   "outputs": [
    {
     "data": {
      "text/latex": [
       "$\\displaystyle A=\\left[\\begin{matrix}1 & 2 & 1\\\\2 & 6 & 3\\\\0 & 2 & 5\\end{matrix}\\right]$"
      ],
      "text/plain": [
       "<IPython.core.display.Math object>"
      ]
     },
     "metadata": {},
     "output_type": "display_data"
    },
    {
     "data": {
      "text/latex": [
       "$\\displaystyle R= \\left[\\begin{matrix}1 & 0 & 0\\\\0 & 1 & 0\\\\0 & 0 & 1\\end{matrix}\\right]$"
      ],
      "text/plain": [
       "<IPython.core.display.Math object>"
      ]
     },
     "metadata": {},
     "output_type": "display_data"
    },
    {
     "data": {
      "text/latex": [
       "$\\displaystyle A=\\left[\\begin{matrix}1 & 1 & 1\\\\1 & 2 & 4\\\\2 & 4 & 8\\end{matrix}\\right]$"
      ],
      "text/plain": [
       "<IPython.core.display.Math object>"
      ]
     },
     "metadata": {},
     "output_type": "display_data"
    },
    {
     "data": {
      "text/latex": [
       "$\\displaystyle R= \\left[\\begin{matrix}1 & 0 & -2\\\\0 & 1 & 3\\\\0 & 0 & 0\\end{matrix}\\right]$"
      ],
      "text/plain": [
       "<IPython.core.display.Math object>"
      ]
     },
     "metadata": {},
     "output_type": "display_data"
    }
   ],
   "source": [
    "A = Matrix(3,3,(1,2,1,2,6,3,0,2,5))\n",
    "display(Math(\"A=\" + latex(A)))\n",
    "display(Math(\"R= \"+latex(A.rref()[0])))\n",
    "\n",
    "A = Matrix(3,3,(1,1,1,1,2,4,2,4,8))\n",
    "display(Math(\"A=\" + latex(A)))\n",
    "display(Math(\"R= \"+latex(A.rref()[0])))\n"
   ]
  },
  {
   "cell_type": "code",
   "execution_count": null,
   "metadata": {},
   "outputs": [],
   "source": []
  }
 ],
 "metadata": {
  "kernelspec": {
   "display_name": "Python 3",
   "language": "python",
   "name": "python3"
  },
  "language_info": {
   "codemirror_mode": {
    "name": "ipython",
    "version": 3
   },
   "file_extension": ".py",
   "mimetype": "text/x-python",
   "name": "python",
   "nbconvert_exporter": "python",
   "pygments_lexer": "ipython3",
   "version": "3.7.4"
  }
 },
 "nbformat": 4,
 "nbformat_minor": 4
}
