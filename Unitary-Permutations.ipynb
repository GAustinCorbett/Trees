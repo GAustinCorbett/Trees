{
 "cells": [
  {
   "cell_type": "code",
   "execution_count": 61,
   "metadata": {},
   "outputs": [],
   "source": [
    "\n",
    "from __future__ import division\n",
    "from sympy import * \n",
    "from IPython.display import display\n",
    "from IPython.display import Math\n",
    "from itertools import permutations , combinations,combinations_with_replacement"
   ]
  },
  {
   "cell_type": "markdown",
   "metadata": {},
   "source": [
    "n = 5  \n",
    "A = Matrix(symarray('A',(n, n)))\n",
    "\n",
    "display(A)\n",
    "B = Matrix(n,n, lambda i,j: (j-i))\n",
    "display(B)\n",
    "I = eye(n)\n",
    "\n",
    "## All permutation matrices\n",
    "#for counter, L in enumerate(permutations(range(0,n))):\n",
    "#    P = I[:,list(L)]\n",
    "#    display(A-P*A*P.transpose())\n",
    "\n",
    "## All permutation matrices with a single row-swap\n",
    "mylist=[0]*n\n",
    "mylist[0], mylist[1] = 1,1\n",
    "for M in set(permutations(mylist)):\n",
    "    \n",
    "    first = M.index(1)\n",
    "    second = M[(first+1):].index(1) + first+1\n",
    "    \n",
    "    rowlist = list(range(0,n))\n",
    "    temprow = I[first, :]\n",
    "   \n",
    "    temp = rowlist[first]\n",
    "    rowlist[first] = rowlist[second]\n",
    "    rowlist[second] = temp\n",
    "    P = I[:,rowlist]\n",
    "    #display(Math(\"A - \"+latex(P) + latex(A) + latex(P.transpose()) + \"=\" + latex(A-P*A*P.transpose())))\n",
    "    display(P*B*P.transpose())\n",
    "    "
   ]
  },
  {
   "cell_type": "markdown",
   "metadata": {},
   "source": [
    "## Possible Solution Paths\n",
    "\n",
    "1. Use single row swaps as a group generator for the entire set of all permutation matrices P, and then carefully study conserved quantities (in the same way as has been done for the rubiks cube) to see if a given state has a solution which takes it to the standard difference table.\n",
    "\n",
    "2. See if there is a transformation which takes the standard difference table to any tree difference table.\n",
    "\n",
    "3. "
   ]
  },
  {
   "cell_type": "code",
   "execution_count": 84,
   "metadata": {},
   "outputs": [
    {
     "name": "stdout",
     "output_type": "stream",
     "text": [
      "Number of possible n-1 edge graphs which meet the diagonal criteria (includes loops and things):\n"
     ]
    },
    {
     "data": {
      "text/latex": [
       "$\\displaystyle {\\binom{\\frac{n \\left(n - 1\\right)}{2}}{n - 1}}$"
      ],
      "text/plain": [
       "binomial(n*(n - 1)/2, n - 1)"
      ]
     },
     "metadata": {},
     "output_type": "display_data"
    },
    {
     "data": {
      "text/latex": [
       "$\\displaystyle \\frac{2 \\left(\\frac{n \\left(n - 1\\right)}{2}\\right)!}{\\left(n - 2\\right) \\left(n - 1\\right) \\left(n - 1\\right)!}$"
      ],
      "text/plain": [
       "2*factorial(n*(n - 1)/2)/((n - 2)*(n - 1)*factorial(n - 1))"
      ]
     },
     "execution_count": 84,
     "metadata": {},
     "output_type": "execute_result"
    }
   ],
   "source": [
    "print(\"Number of possible n-1 edge graphs which meet the diagonal criteria (includes loops and things):\")\n",
    "n , k = symbols('n,k' , integer=True, positive=True)\n",
    "display(binomial((Rational(1/2)*n*(n-1)),n-1))\n",
    "simplify(factorial(Rational(1/2)*n*(n-1))/(factorial(n-1)*(Rational(1/2)*n*(n-1) - (n-1))))"
   ]
  },
  {
   "cell_type": "markdown",
   "metadata": {},
   "source": []
  }
 ],
 "metadata": {
  "kernelspec": {
   "display_name": "Python 3",
   "language": "python",
   "name": "python3"
  },
  "language_info": {
   "codemirror_mode": {
    "name": "ipython",
    "version": 3
   },
   "file_extension": ".py",
   "mimetype": "text/x-python",
   "name": "python",
   "nbconvert_exporter": "python",
   "pygments_lexer": "ipython3",
   "version": "3.7.4"
  }
 },
 "nbformat": 4,
 "nbformat_minor": 4
}
